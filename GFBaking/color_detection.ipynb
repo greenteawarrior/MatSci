{
 "cells": [
  {
   "cell_type": "markdown",
   "metadata": {},
   "source": [
    "# color_detection\n",
    "\n",
    "Emily Q. Wang \n",
    "\n",
    "A **very** quick notebook and helper function for determining the crumb vs. holes contents in gluten free bread slices.\n",
    "\n",
    "Tutorial with info about indexing pixels, etc. with opencv:\n",
    "* http://docs.opencv.org/3.0-beta/doc/py_tutorials/py_core/py_basic_ops/py_basic_ops.html#basic-ops\n",
    "\n",
    "Other links:\n",
    "* http://docs.opencv.org/3.0-beta/doc/py_tutorials/py_imgproc/py_colorspaces/py_colorspaces.html#converting-colorspaces\n",
    "* http://stackoverflow.com/questions/32590932/count-number-of-black-pixels-in-an-image-in-python-with-opencv\n",
    "* http://www.pyimagesearch.com/2014/08/04/opencv-python-color-detection/"
   ]
  },
  {
   "cell_type": "code",
   "execution_count": 1,
   "metadata": {
    "collapsed": true
   },
   "outputs": [],
   "source": [
    "import cv2\n",
    "import numpy as np\n",
    "import pprint as pp"
   ]
  },
  {
   "cell_type": "code",
   "execution_count": 2,
   "metadata": {
    "collapsed": false
   },
   "outputs": [
    {
     "name": "stdout",
     "output_type": "stream",
     "text": [
      "(500, 500, 3)\n"
     ]
    }
   ],
   "source": [
    "img = cv2.imread('color_detection/wikipedia_checkerboard.png')\n",
    "print img.shape"
   ]
  },
  {
   "cell_type": "code",
   "execution_count": 3,
   "metadata": {
    "collapsed": false
   },
   "outputs": [
    {
     "name": "stdout",
     "output_type": "stream",
     "text": [
      "0\n",
      "0\n",
      "0\n",
      "255\n",
      "255\n",
      "255\n"
     ]
    }
   ],
   "source": [
    "# practice indexing things\n",
    "\n",
    "print img.item(0, 0, 0)\n",
    "print img.item(0, 0, 1)\n",
    "print img.item(0, 0, 2)\n",
    "\n",
    "print img.item(300, 0, 0)\n",
    "print img.item(300, 0, 1)\n",
    "print img.item(300, 0, 2)"
   ]
  },
  {
   "cell_type": "code",
   "execution_count": 4,
   "metadata": {
    "collapsed": false
   },
   "outputs": [],
   "source": [
    "rows = img.shape[0]\n",
    "cols = img.shape[1]\n",
    "w_pixels = 0\n",
    "b_pixels = 0\n",
    "\n",
    "for i in range(rows):\n",
    "    for j in range(cols):\n",
    "        # look at the blue channel\n",
    "        if img.item(i, j, 0) == 0:\n",
    "            w_pixels += 1\n",
    "        elif img.item(i, j, 0) == 255:\n",
    "            b_pixels += 1"
   ]
  },
  {
   "cell_type": "code",
   "execution_count": 5,
   "metadata": {
    "collapsed": false
   },
   "outputs": [
    {
     "name": "stdout",
     "output_type": "stream",
     "text": [
      "130000\n",
      "120000\n",
      "250000\n",
      "0.52\n",
      "0.48\n"
     ]
    }
   ],
   "source": [
    "print w_pixels\n",
    "print b_pixels\n",
    "print w_pixels + b_pixels\n",
    "print float(w_pixels)/(w_pixels + b_pixels)\n",
    "print float(b_pixels)/(w_pixels + b_pixels)"
   ]
  },
  {
   "cell_type": "code",
   "execution_count": 6,
   "metadata": {
    "collapsed": false
   },
   "outputs": [],
   "source": [
    "def count_bw(filename):\n",
    "    \n",
    "    breadname = filename.split('/')[1].split('.')[0]\n",
    "    \n",
    "    img = cv2.imread(filename)\n",
    "    \n",
    "    rows = img.shape[0]\n",
    "    cols = img.shape[1]\n",
    "    w_pixels = 0\n",
    "    b_pixels = 0\n",
    "    r_pixels = 0\n",
    "    other_pixels = 0\n",
    "\n",
    "    for i in range(rows):\n",
    "        for j in range(cols):\n",
    "            if img[i,j][0] < 100 and img[i,j][1] < 100 and img[i,j][2] < 100:\n",
    "                w_pixels += 1\n",
    "            elif img[i,j][0] > 200 and img[i,j][1] > 200 and img[i,j][2] > 200:\n",
    "                b_pixels += 1\n",
    "            elif img[i,j][0] < 100 and img[i,j][1] < 100 and img[i,j][2] > 200:\n",
    "                r_pixels += 1\n",
    "            else:\n",
    "                other_pixels += 1\n",
    "    \n",
    "    w_percent = float(w_pixels) / (w_pixels + b_pixels)\n",
    "    b_percent = float(b_pixels) / (w_pixels + b_pixels)\n",
    "    \n",
    "    print \"The %s bread is %f percent crumb and %f percent holes. There are %f crumb pixels, %f hole pixels, %f red pixels, and %f other pixels.\" % (breadname, b_percent * 100, w_percent * 100, w_pixels, b_pixels, r_pixels, other_pixels)\n",
    "    \n",
    "    return"
   ]
  },
  {
   "cell_type": "code",
   "execution_count": 7,
   "metadata": {
    "collapsed": false
   },
   "outputs": [],
   "source": [
    "# def count_bw2(filename):\n",
    "    \n",
    "#     breadname = filename.split('/')[1].split('.')[0]\n",
    "    \n",
    "#     img = cv2.imread(filename)\n",
    "    \n",
    "#     rows = img.shape[0]\n",
    "#     cols = img.shape[1]\n",
    "#     w_pixels = 0\n",
    "#     b_pixels = 0\n",
    "#     r_pixels = 0\n",
    "#     other_pixels = 0\n",
    "\n",
    "#     for i in range(rows):\n",
    "#         for j in range(cols):\n",
    "#             if img[i,j][0] == 0 and img[i,j][1] == 0 and img[i,j][2] == 0:\n",
    "#                 w_pixels += 1\n",
    "#             elif img[i,j][0] == 255 and img[i,j][1] == 255 and img[i,j][2] == 255:\n",
    "#                 b_pixels += 1\n",
    "#             elif img[i,j][0] == 0 and img[i,j][1] == 0 and img[i,j][2] == 255:\n",
    "#                 r_pixels += 1\n",
    "#             elif img[i,j][0] == 0 and img[i,j][1] == 0 and img[i,j][2] == 254:\n",
    "#                 r_pixels += 1\n",
    "#             else:\n",
    "#                 other_pixels += 1\n",
    "    \n",
    "#     w_percent = float(w_pixels) / (w_pixels + b_pixels)\n",
    "#     b_percent = float(b_pixels) / (w_pixels + b_pixels)\n",
    "    \n",
    "#     print \"The %s bread is %f percent crumb and %f percent holes. There are %f crumb pixels, %f hole pixels, %f red pixels, and %f other pixels.\" % (breadname, b_percent * 100, w_percent * 100, w_pixels, b_pixels, r_pixels, other_pixels)\n",
    "    \n",
    "#     return\n",
    "\n",
    "# count_bw('color_detection/xg_ruler_crop.JPG')"
   ]
  },
  {
   "cell_type": "code",
   "execution_count": 8,
   "metadata": {
    "collapsed": true
   },
   "outputs": [],
   "source": [
    "# # helper function!\n",
    "\n",
    "# def count_bw_v1(filename):\n",
    "    \n",
    "#     breadname = filename.split('/')[1].split('.')[0]\n",
    "    \n",
    "#     img = cv2.imread(filename)\n",
    "    \n",
    "#     rows = img.shape[0]\n",
    "#     cols = img.shape[1]\n",
    "#     w_pixels = 0\n",
    "#     b_pixels = 0\n",
    "#     other_pixels = 0\n",
    "\n",
    "#     for i in range(rows):\n",
    "#         for j in range(cols):\n",
    "#             # look at the blue channel\n",
    "#             if img.item(i, j, 0) == 0:\n",
    "#                 w_pixels += 1\n",
    "#             elif img.item(i, j, 0) == 255:\n",
    "#                 b_pixels += 1\n",
    "#             elif img.item(i, j, 0) == 254:\n",
    "#                 b_pixels += 1\n",
    "#             else:\n",
    "#                 other_pixels += 1\n",
    "    \n",
    "#     w_percent = float(w_pixels) / (w_pixels + b_pixels)\n",
    "#     b_percent = float(b_pixels) / (w_pixels + b_pixels)\n",
    "    \n",
    "#     print \"The %s bread is %f percent crumb and %f percent holes. There are %f crumb pixels, %f hole pixels, and %f other pixels.\" % (breadname, b_percent * 100, w_percent * 100, w_pixels, b_pixels, other_pixels)\n",
    "    \n",
    "#     return"
   ]
  },
  {
   "cell_type": "markdown",
   "metadata": {},
   "source": [
    "Looking at the images pre-processed by Frankie thus far...\n",
    "\n",
    "Frankie's procedure for pre-processing the images:\n",
    "- Make the non-bread parts of the photo red\n",
    "- Split the bread contents into halves, put spacing in between pieces\n",
    "- Apply a threshold to each grid piece"
   ]
  },
  {
   "cell_type": "code",
   "execution_count": 9,
   "metadata": {
    "collapsed": false
   },
   "outputs": [
    {
     "name": "stdout",
     "output_type": "stream",
     "text": [
      "The xg_ruler_crop bread is 52.676316 percent crumb and 47.323684 percent holes. There are 2089529.000000 crumb pixels, 2325869.000000 hole pixels, 11456751.000000 red pixels, and 53099.000000 other pixels.\n",
      "The 1_8gluten bread is 52.884601 percent crumb and 47.115399 percent holes. There are 613712.000000 crumb pixels, 688860.000000 hole pixels, 14536456.000000 red pixels, and 33228.000000 other pixels.\n",
      "The 1_13gluten bread is 52.829831 percent crumb and 47.170169 percent holes. There are 2053542.000000 crumb pixels, 2299934.000000 hole pixels, 11515968.000000 red pixels, and 55804.000000 other pixels.\n",
      "The pectin_1tsp bread is 61.933025 percent crumb and 38.066975 percent holes. There are 1629568.000000 crumb pixels, 2651224.000000 hole pixels, 11586768.000000 red pixels, and 57688.000000 other pixels.\n",
      "The pectin_3tsp bread is 60.304498 percent crumb and 39.695502 percent holes. There are 1784395.000000 crumb pixels, 2710812.000000 hole pixels, 11372924.000000 red pixels, and 57117.000000 other pixels.\n",
      "The 2_8gluten bread is 68.642024 percent crumb and 31.357976 percent holes. There are 1311955.000000 crumb pixels, 2871845.000000 hole pixels, 11736793.000000 red pixels, and 4655.000000 other pixels.\n",
      "The 2_13gluten bread is 62.065605 percent crumb and 37.934395 percent holes. There are 1819436.000000 crumb pixels, 2976834.000000 hole pixels, 11124236.000000 red pixels, and 4742.000000 other pixels.\n"
     ]
    }
   ],
   "source": [
    "# count_bw('color_detection/wikipedia_checkerboard.png')\n",
    "# count_bw('color_detection/xg.JPG')\n",
    "count_bw('color_detection/xg_ruler_crop.JPG')\n",
    "# The xg_ruler_crop bread is 53.102948 percent crumb and 46.897052 percent holes. There are 1568032.000000 crumb pixels, 1775530.000000 hole pixels, 2361053.000000 red pixels, and 10220633.000000 other pixels.\n",
    "\n",
    "count_bw('color_detection/1_8gluten.jpg')\n",
    "count_bw('color_detection/1_13gluten.jpg')\n",
    "count_bw('color_detection/pectin_1tsp.JPG')\n",
    "count_bw('color_detection/pectin_3tsp.JPG')\n",
    "count_bw('color_detection/2_8gluten.jpg')\n",
    "count_bw('color_detection/2_13gluten.jpg')"
   ]
  },
  {
   "cell_type": "markdown",
   "metadata": {},
   "source": [
    "### Debugging..."
   ]
  },
  {
   "cell_type": "code",
   "execution_count": 10,
   "metadata": {
    "collapsed": false
   },
   "outputs": [],
   "source": [
    "# count_bw('color_detection/2_8gluten.jpg') #15925248\n",
    "# count_bw('color_detection/2_8gluten_crop.jpg') "
   ]
  },
  {
   "cell_type": "code",
   "execution_count": 11,
   "metadata": {
    "collapsed": false
   },
   "outputs": [],
   "source": [
    "# img = cv2.imread('color_detection/2_8gluten.jpg')\n",
    "\n",
    "# expected = [0, 254, 255]\n",
    "\n",
    "# print img[100, 100]\n",
    "# print img[100, 100][0]\n",
    "# print type(img[100, 100])\n",
    "# test = img[100,100] == [0, 0, 254]\n",
    "# if test[0] and test[1] and test[2]:\n",
    "#     print 'yes'\n",
    "\n",
    "# print img.item(0, 0, 0)\n",
    "# print img.item(0, 0, 1)\n",
    "# print img.item(0, 0, 2)\n",
    "\n",
    "# print img.item(300, 0, 0)\n",
    "# print img.item(300, 0, 1)\n",
    "# print img.item(300, 0, 2)\n",
    "\n",
    "# print img.item(310, 0, 0)\n",
    "# print img.item(310, 0, 1)\n",
    "# print img.item(310, 0, 2)"
   ]
  }
 ],
 "metadata": {
  "kernelspec": {
   "display_name": "Python 2",
   "language": "python",
   "name": "python2"
  },
  "language_info": {
   "codemirror_mode": {
    "name": "ipython",
    "version": 2
   },
   "file_extension": ".py",
   "mimetype": "text/x-python",
   "name": "python",
   "nbconvert_exporter": "python",
   "pygments_lexer": "ipython2",
   "version": "2.7.11"
  }
 },
 "nbformat": 4,
 "nbformat_minor": 0
}
