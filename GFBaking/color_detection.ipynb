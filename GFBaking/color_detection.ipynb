{
 "cells": [
  {
   "cell_type": "markdown",
   "metadata": {},
   "source": [
    "# color_detection\n",
    "\n",
    "Emily Q. Wang \n",
    "\n",
    "A **very** quick notebook and helper function for determining the crumb vs. holes contents in gluten free bread slices.\n",
    "\n",
    "Tutorial with info about indexing pixels, etc. with opencv:\n",
    "* http://docs.opencv.org/3.0-beta/doc/py_tutorials/py_core/py_basic_ops/py_basic_ops.html#basic-ops\n",
    "\n",
    "Other links:\n",
    "* http://docs.opencv.org/3.0-beta/doc/py_tutorials/py_imgproc/py_colorspaces/py_colorspaces.html#converting-colorspaces\n",
    "* http://stackoverflow.com/questions/32590932/count-number-of-black-pixels-in-an-image-in-python-with-opencv\n",
    "* http://www.pyimagesearch.com/2014/08/04/opencv-python-color-detection/"
   ]
  },
  {
   "cell_type": "code",
   "execution_count": 1,
   "metadata": {
    "collapsed": true
   },
   "outputs": [],
   "source": [
    "import cv2\n",
    "import numpy as np\n",
    "import pprint as pp"
   ]
  },
  {
   "cell_type": "code",
   "execution_count": 2,
   "metadata": {
    "collapsed": false
   },
   "outputs": [
    {
     "name": "stdout",
     "output_type": "stream",
     "text": [
      "(500, 500, 3)\n"
     ]
    }
   ],
   "source": [
    "img = cv2.imread('color_detection/wikipedia_checkerboard.png')\n",
    "print img.shape"
   ]
  },
  {
   "cell_type": "code",
   "execution_count": 3,
   "metadata": {
    "collapsed": false
   },
   "outputs": [
    {
     "name": "stdout",
     "output_type": "stream",
     "text": [
      "0\n",
      "0\n",
      "0\n",
      "255\n",
      "255\n",
      "255\n"
     ]
    }
   ],
   "source": [
    "# practice indexing things\n",
    "\n",
    "print img.item(0, 0, 0)\n",
    "print img.item(0, 0, 1)\n",
    "print img.item(0, 0, 2)\n",
    "\n",
    "print img.item(300, 0, 0)\n",
    "print img.item(300, 0, 1)\n",
    "print img.item(300, 0, 2)"
   ]
  },
  {
   "cell_type": "code",
   "execution_count": 4,
   "metadata": {
    "collapsed": false
   },
   "outputs": [],
   "source": [
    "rows = img.shape[0]\n",
    "cols = img.shape[1]\n",
    "w_pixels = 0\n",
    "b_pixels = 0\n",
    "\n",
    "for i in range(rows):\n",
    "    for j in range(cols):\n",
    "        # look at the blue channel\n",
    "        if img.item(i, j, 0) == 0:\n",
    "            w_pixels += 1\n",
    "        elif img.item(i, j, 0) == 255:\n",
    "            b_pixels += 1"
   ]
  },
  {
   "cell_type": "code",
   "execution_count": 5,
   "metadata": {
    "collapsed": false
   },
   "outputs": [
    {
     "name": "stdout",
     "output_type": "stream",
     "text": [
      "130000\n",
      "120000\n",
      "250000\n",
      "0.52\n",
      "0.48\n"
     ]
    }
   ],
   "source": [
    "print w_pixels\n",
    "print b_pixels\n",
    "print w_pixels + b_pixels\n",
    "print float(w_pixels)/(w_pixels + b_pixels)\n",
    "print float(b_pixels)/(w_pixels + b_pixels)"
   ]
  },
  {
   "cell_type": "code",
   "execution_count": 6,
   "metadata": {
    "collapsed": true
   },
   "outputs": [],
   "source": [
    "# helper function!\n",
    "\n",
    "def count_bw(filename):\n",
    "    \n",
    "    breadname = filename.split('/')[1].split('.')[0]\n",
    "    \n",
    "    img = cv2.imread(filename)\n",
    "    \n",
    "    rows = img.shape[0]\n",
    "    cols = img.shape[1]\n",
    "    w_pixels = 0\n",
    "    b_pixels = 0\n",
    "\n",
    "    for i in range(rows):\n",
    "        for j in range(cols):\n",
    "            # look at the blue channel\n",
    "            if img.item(i, j, 0) == 0:\n",
    "                w_pixels += 1\n",
    "            elif img.item(i, j, 0) == 255:\n",
    "                b_pixels += 1\n",
    "    \n",
    "    w_percent = float(w_pixels) / (w_pixels + b_pixels)\n",
    "    b_percent = float(b_pixels) / (w_pixels + b_pixels)\n",
    "    \n",
    "    print \"The %s bread is %f percent crumb and %f percent holes.\" % (breadname, b_percent * 100, w_percent * 100)\n",
    "    \n",
    "    return"
   ]
  },
  {
   "cell_type": "markdown",
   "metadata": {},
   "source": [
    "Looking at the images pre-processed by Frankie thus far...\n",
    "\n",
    "Frankie's procedure for pre-processing the images:\n",
    "- Make the remainder of the photo red\n",
    "- Split the bread contents into halves, put spacing in between pieces\n",
    "- Apply a threshold to each grid piece"
   ]
  },
  {
   "cell_type": "code",
   "execution_count": 7,
   "metadata": {
    "collapsed": false
   },
   "outputs": [
    {
     "name": "stdout",
     "output_type": "stream",
     "text": [
      "The wikipedia_checkerboard bread is 48.000000 percent crumb and 52.000000 percent holes.\n",
      "The 1_8gluten bread is 53.371079 percent crumb and 46.628921 percent holes.\n",
      "The 1_13gluten bread is 53.750163 percent crumb and 46.249837 percent holes.\n",
      "The pectin_1tsp bread is 60.970475 percent crumb and 39.029525 percent holes.\n",
      "The pectin_3tsp bread is 59.101989 percent crumb and 40.898011 percent holes.\n",
      "The xg bread is 52.049836 percent crumb and 47.950164 percent holes.\n"
     ]
    }
   ],
   "source": [
    "count_bw('color_detection/wikipedia_checkerboard.png')\n",
    "count_bw('color_detection/1_8gluten.jpg')\n",
    "count_bw('color_detection/1_13gluten.jpg')\n",
    "count_bw('color_detection/pectin_1tsp.JPG')\n",
    "count_bw('color_detection/pectin_3tsp.JPG')\n",
    "count_bw('color_detection/xg.JPG')"
   ]
  }
 ],
 "metadata": {
  "kernelspec": {
   "display_name": "Python 2",
   "language": "python",
   "name": "python2"
  },
  "language_info": {
   "codemirror_mode": {
    "name": "ipython",
    "version": 2
   },
   "file_extension": ".py",
   "mimetype": "text/x-python",
   "name": "python",
   "nbconvert_exporter": "python",
   "pygments_lexer": "ipython2",
   "version": "2.7.11"
  }
 },
 "nbformat": 4,
 "nbformat_minor": 0
}
